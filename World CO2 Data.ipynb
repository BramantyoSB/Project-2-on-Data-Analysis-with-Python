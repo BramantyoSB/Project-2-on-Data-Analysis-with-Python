{
 "cells": [
  {
   "cell_type": "markdown",
   "metadata": {},
   "source": [
    "## Data Analysis on World CO2 Data\n",
    "Drawing upon our knowledge in Python and its data science libraries—Pandas, NumPy, and Matplotlib—__we can leverage our expertise in addressing pressing global challenges__. This case study specifically delves into __examining the historical extent of climate change__. \n",
    "\n",
    "We will be looking at the dataset provide by the World Bank: [CO2 emissions (metric tons per capita)](https://api.worldbank.org/v2/en/indicator/EN.ATM.CO2E.PC?downloadformat=csv).\n",
    "\n",
    "__But, first we must understand the dataset!__"
   ]
  },
  {
   "cell_type": "markdown",
   "metadata": {},
   "source": [
    "## Understanding Climate Change, thus the Dataset\n"
   ]
  },
  {
   "cell_type": "markdown",
   "metadata": {},
   "source": [
    "The specific .csv file in the zip file downloaded is titled \"API_EN.ATM.CO2E.PC_DS2_en_csv_v2_5995557\". The file name will be manually changed into \"World CO2 Data\" for better naming convention."
   ]
  },
  {
   "cell_type": "markdown",
   "metadata": {},
   "source": [
    "__Understanding Climate Change__\n",
    "\n",
    "People often ask, _Why is CO2 emissions a prime indicator of climate change? Why not other metrics?_ \n",
    "\n",
    "The [United States Environmental Protection Agency](https://www.epa.gov/report-environment/greenhouse-gases) addresses this by highlighting that CO2 emissions presently constitute the largest share of the warming linked to human activities. This allows us to draw parallels between CO2 emissions and its climate effects. "
   ]
  },
  {
   "cell_type": "markdown",
   "metadata": {},
   "source": [
    "__Understanding the Dataset__\n",
    "\n",
    "Now that we know CO2 emissions are directly tied to climate change, __let's check out the actual data__. \n",
    "\n",
    "__The dataset outlines the CO2 emissions in metric tons per capita__. This means each entry in the dataset corresponds to the amount of CO2 emitted per person in a given region or country. Additionally, __there's a total entry of 266 countries' data from 1960 to 2022__. It is important to note, however, __that the dataset contains some missing values__; we must address this later using Pandas.\n",
    "\n",
    "Analyzing this data allows us to discern patterns and trends, revealing which areas contribute more significantly to per capita emissions."
   ]
  },
  {
   "cell_type": "markdown",
   "metadata": {},
   "source": [
    "## The Big Question\n",
    "\n",
    "With the bigger picture in mind, we can now frame some questions that would provide us further insights to the climate change problem. The questions we should address are:\n",
    "1. What are the top 5 countries with the highest CO2 emissions per capita in the most recent year available?\n",
    "2. What are the bottom 5 countries with the lowest CO2 emissions per capita in the most recent year available?\n",
    "3. Which countries saw the biggest CO2 emissions change during COVID years?\n",
    "4. Which countries saw minimal CO2 emissions change during COVID years?\n",
    "5. Are there significant differences in CO2 emissions per capita between continents?\n",
    "6. Which countries have consistently maintained high or low CO2 emissions per capita, against the average CO2 emissions per capita, throughout the dataset period?\n",
    "7. Investigate any recent changes or trends in CO2 emissions per capita. Are there signs of improvement or deterioration in recent years?\n",
    "\n",
    "__To address the questions above, we can use the aforementioned libraries to gain further insight.__\n"
   ]
  },
  {
   "cell_type": "markdown",
   "metadata": {},
   "source": [
    "## Procedures to perform data analysis on given dataset"
   ]
  },
  {
   "cell_type": "markdown",
   "metadata": {},
   "source": [
    "### imports"
   ]
  },
  {
   "cell_type": "code",
   "execution_count": 1,
   "metadata": {},
   "outputs": [],
   "source": [
    "import pandas as pd"
   ]
  },
  {
   "cell_type": "markdown",
   "metadata": {},
   "source": [
    "### Creating and Cleaning Dataframe by reading the .csv dataset"
   ]
  },
  {
   "cell_type": "markdown",
   "metadata": {},
   "source": [
    "Cleaning and preprocessing a dataset is crucial for optimal data analysis. In our case, __the CSV file initially contains four rows of comments unrelated to the dataset, disrupting the expected structure__. To remedy this, we can __skip these comment rows when creating a Pandas dataframe__. \n",
    "\n",
    "We can usse the `pd.read_csv()` function to read the contents of the CSV file into a Pandas DataFrame and to skip the unwanted rows we can use `df = pd.read_csv('your_file.csv', skiprows=4)`"
   ]
  },
  {
   "cell_type": "code",
   "execution_count": 5,
   "metadata": {},
   "outputs": [],
   "source": [
    "df = pd.read_csv('World CO2 Data.csv', skiprows=4)"
   ]
  },
  {
   "cell_type": "markdown",
   "metadata": {},
   "source": [
    "This ensures that the dataset is free from irrelevant information and ready for further analysis, minimizing potential parsing issues and enabling a smooth data exploration process."
   ]
  },
  {
   "cell_type": "markdown",
   "metadata": {},
   "source": [
    "__Now, let's take a peek at the dataframe object—df we've created.__ To get a good general overview, we should implement multiple viewing methods."
   ]
  },
  {
   "cell_type": "markdown",
   "metadata": {},
   "source": [
    "We can use the `df.columns` to get all columns from the dataframe data."
   ]
  },
  {
   "cell_type": "code",
   "execution_count": 6,
   "metadata": {},
   "outputs": [
    {
     "data": {
      "text/plain": [
       "Index(['Country Name', 'Country Code', 'Indicator Name', 'Indicator Code',\n",
       "       '1960', '1961', '1962', '1963', '1964', '1965', '1966', '1967', '1968',\n",
       "       '1969', '1970', '1971', '1972', '1973', '1974', '1975', '1976', '1977',\n",
       "       '1978', '1979', '1980', '1981', '1982', '1983', '1984', '1985', '1986',\n",
       "       '1987', '1988', '1989', '1990', '1991', '1992', '1993', '1994', '1995',\n",
       "       '1996', '1997', '1998', '1999', '2000', '2001', '2002', '2003', '2004',\n",
       "       '2005', '2006', '2007', '2008', '2009', '2010', '2011', '2012', '2013',\n",
       "       '2014', '2015', '2016', '2017', '2018', '2019', '2020', '2021', '2022',\n",
       "       'Unnamed: 67'],\n",
       "      dtype='object')"
      ]
     },
     "execution_count": 6,
     "metadata": {},
     "output_type": "execute_result"
    }
   ],
   "source": [
    "df.columns"
   ]
  },
  {
   "cell_type": "markdown",
   "metadata": {},
   "source": [
    "The column headers above are mostly as expected. But, there exist a column header: 'Unnamed:67'. __This column appears to be unnamed or might be an extra column with no clear label__. It's common to encounter such columns when reading CSV files, and __it can be dropped if not needed.__ \n",
    "\n",
    "We should use `df.head` and `df.tail` to get the first and last few rows respectively. Just to get a better picture."
   ]
  },
  {
   "cell_type": "code",
   "execution_count": 7,
   "metadata": {},
   "outputs": [
    {
     "data": {
      "text/html": [
       "<div>\n",
       "<style scoped>\n",
       "    .dataframe tbody tr th:only-of-type {\n",
       "        vertical-align: middle;\n",
       "    }\n",
       "\n",
       "    .dataframe tbody tr th {\n",
       "        vertical-align: top;\n",
       "    }\n",
       "\n",
       "    .dataframe thead th {\n",
       "        text-align: right;\n",
       "    }\n",
       "</style>\n",
       "<table border=\"1\" class=\"dataframe\">\n",
       "  <thead>\n",
       "    <tr style=\"text-align: right;\">\n",
       "      <th></th>\n",
       "      <th>Country Name</th>\n",
       "      <th>Country Code</th>\n",
       "      <th>Indicator Name</th>\n",
       "      <th>Indicator Code</th>\n",
       "      <th>1960</th>\n",
       "      <th>1961</th>\n",
       "      <th>1962</th>\n",
       "      <th>1963</th>\n",
       "      <th>1964</th>\n",
       "      <th>1965</th>\n",
       "      <th>...</th>\n",
       "      <th>2014</th>\n",
       "      <th>2015</th>\n",
       "      <th>2016</th>\n",
       "      <th>2017</th>\n",
       "      <th>2018</th>\n",
       "      <th>2019</th>\n",
       "      <th>2020</th>\n",
       "      <th>2021</th>\n",
       "      <th>2022</th>\n",
       "      <th>Unnamed: 67</th>\n",
       "    </tr>\n",
       "  </thead>\n",
       "  <tbody>\n",
       "    <tr>\n",
       "      <th>0</th>\n",
       "      <td>Aruba</td>\n",
       "      <td>ABW</td>\n",
       "      <td>CO2 emissions (metric tons per capita)</td>\n",
       "      <td>EN.ATM.CO2E.PC</td>\n",
       "      <td>NaN</td>\n",
       "      <td>NaN</td>\n",
       "      <td>NaN</td>\n",
       "      <td>NaN</td>\n",
       "      <td>NaN</td>\n",
       "      <td>NaN</td>\n",
       "      <td>...</td>\n",
       "      <td>NaN</td>\n",
       "      <td>NaN</td>\n",
       "      <td>NaN</td>\n",
       "      <td>NaN</td>\n",
       "      <td>NaN</td>\n",
       "      <td>NaN</td>\n",
       "      <td>NaN</td>\n",
       "      <td>NaN</td>\n",
       "      <td>NaN</td>\n",
       "      <td>NaN</td>\n",
       "    </tr>\n",
       "    <tr>\n",
       "      <th>1</th>\n",
       "      <td>Africa Eastern and Southern</td>\n",
       "      <td>AFE</td>\n",
       "      <td>CO2 emissions (metric tons per capita)</td>\n",
       "      <td>EN.ATM.CO2E.PC</td>\n",
       "      <td>NaN</td>\n",
       "      <td>NaN</td>\n",
       "      <td>NaN</td>\n",
       "      <td>NaN</td>\n",
       "      <td>NaN</td>\n",
       "      <td>NaN</td>\n",
       "      <td>...</td>\n",
       "      <td>1.013758</td>\n",
       "      <td>0.960430</td>\n",
       "      <td>0.941337</td>\n",
       "      <td>0.933874</td>\n",
       "      <td>0.921453</td>\n",
       "      <td>0.915294</td>\n",
       "      <td>0.795420</td>\n",
       "      <td>NaN</td>\n",
       "      <td>NaN</td>\n",
       "      <td>NaN</td>\n",
       "    </tr>\n",
       "    <tr>\n",
       "      <th>2</th>\n",
       "      <td>Afghanistan</td>\n",
       "      <td>AFG</td>\n",
       "      <td>CO2 emissions (metric tons per capita)</td>\n",
       "      <td>EN.ATM.CO2E.PC</td>\n",
       "      <td>NaN</td>\n",
       "      <td>NaN</td>\n",
       "      <td>NaN</td>\n",
       "      <td>NaN</td>\n",
       "      <td>NaN</td>\n",
       "      <td>NaN</td>\n",
       "      <td>...</td>\n",
       "      <td>0.283692</td>\n",
       "      <td>0.297972</td>\n",
       "      <td>0.268359</td>\n",
       "      <td>0.281196</td>\n",
       "      <td>0.299083</td>\n",
       "      <td>0.297564</td>\n",
       "      <td>0.223479</td>\n",
       "      <td>NaN</td>\n",
       "      <td>NaN</td>\n",
       "      <td>NaN</td>\n",
       "    </tr>\n",
       "    <tr>\n",
       "      <th>3</th>\n",
       "      <td>Africa Western and Central</td>\n",
       "      <td>AFW</td>\n",
       "      <td>CO2 emissions (metric tons per capita)</td>\n",
       "      <td>EN.ATM.CO2E.PC</td>\n",
       "      <td>NaN</td>\n",
       "      <td>NaN</td>\n",
       "      <td>NaN</td>\n",
       "      <td>NaN</td>\n",
       "      <td>NaN</td>\n",
       "      <td>NaN</td>\n",
       "      <td>...</td>\n",
       "      <td>0.493505</td>\n",
       "      <td>0.475577</td>\n",
       "      <td>0.479775</td>\n",
       "      <td>0.465166</td>\n",
       "      <td>0.475817</td>\n",
       "      <td>0.490837</td>\n",
       "      <td>0.463150</td>\n",
       "      <td>NaN</td>\n",
       "      <td>NaN</td>\n",
       "      <td>NaN</td>\n",
       "    </tr>\n",
       "    <tr>\n",
       "      <th>4</th>\n",
       "      <td>Angola</td>\n",
       "      <td>AGO</td>\n",
       "      <td>CO2 emissions (metric tons per capita)</td>\n",
       "      <td>EN.ATM.CO2E.PC</td>\n",
       "      <td>NaN</td>\n",
       "      <td>NaN</td>\n",
       "      <td>NaN</td>\n",
       "      <td>NaN</td>\n",
       "      <td>NaN</td>\n",
       "      <td>NaN</td>\n",
       "      <td>...</td>\n",
       "      <td>1.091497</td>\n",
       "      <td>1.125185</td>\n",
       "      <td>1.012552</td>\n",
       "      <td>0.829723</td>\n",
       "      <td>0.755828</td>\n",
       "      <td>0.753638</td>\n",
       "      <td>0.592743</td>\n",
       "      <td>NaN</td>\n",
       "      <td>NaN</td>\n",
       "      <td>NaN</td>\n",
       "    </tr>\n",
       "  </tbody>\n",
       "</table>\n",
       "<p>5 rows × 68 columns</p>\n",
       "</div>"
      ],
      "text/plain": [
       "                  Country Name Country Code  \\\n",
       "0                        Aruba          ABW   \n",
       "1  Africa Eastern and Southern          AFE   \n",
       "2                  Afghanistan          AFG   \n",
       "3   Africa Western and Central          AFW   \n",
       "4                       Angola          AGO   \n",
       "\n",
       "                           Indicator Name  Indicator Code  1960  1961  1962  \\\n",
       "0  CO2 emissions (metric tons per capita)  EN.ATM.CO2E.PC   NaN   NaN   NaN   \n",
       "1  CO2 emissions (metric tons per capita)  EN.ATM.CO2E.PC   NaN   NaN   NaN   \n",
       "2  CO2 emissions (metric tons per capita)  EN.ATM.CO2E.PC   NaN   NaN   NaN   \n",
       "3  CO2 emissions (metric tons per capita)  EN.ATM.CO2E.PC   NaN   NaN   NaN   \n",
       "4  CO2 emissions (metric tons per capita)  EN.ATM.CO2E.PC   NaN   NaN   NaN   \n",
       "\n",
       "   1963  1964  1965  ...      2014      2015      2016      2017      2018  \\\n",
       "0   NaN   NaN   NaN  ...       NaN       NaN       NaN       NaN       NaN   \n",
       "1   NaN   NaN   NaN  ...  1.013758  0.960430  0.941337  0.933874  0.921453   \n",
       "2   NaN   NaN   NaN  ...  0.283692  0.297972  0.268359  0.281196  0.299083   \n",
       "3   NaN   NaN   NaN  ...  0.493505  0.475577  0.479775  0.465166  0.475817   \n",
       "4   NaN   NaN   NaN  ...  1.091497  1.125185  1.012552  0.829723  0.755828   \n",
       "\n",
       "       2019      2020  2021  2022  Unnamed: 67  \n",
       "0       NaN       NaN   NaN   NaN          NaN  \n",
       "1  0.915294  0.795420   NaN   NaN          NaN  \n",
       "2  0.297564  0.223479   NaN   NaN          NaN  \n",
       "3  0.490837  0.463150   NaN   NaN          NaN  \n",
       "4  0.753638  0.592743   NaN   NaN          NaN  \n",
       "\n",
       "[5 rows x 68 columns]"
      ]
     },
     "execution_count": 7,
     "metadata": {},
     "output_type": "execute_result"
    }
   ],
   "source": [
    "df.head()"
   ]
  },
  {
   "cell_type": "code",
   "execution_count": 8,
   "metadata": {},
   "outputs": [
    {
     "data": {
      "text/html": [
       "<div>\n",
       "<style scoped>\n",
       "    .dataframe tbody tr th:only-of-type {\n",
       "        vertical-align: middle;\n",
       "    }\n",
       "\n",
       "    .dataframe tbody tr th {\n",
       "        vertical-align: top;\n",
       "    }\n",
       "\n",
       "    .dataframe thead th {\n",
       "        text-align: right;\n",
       "    }\n",
       "</style>\n",
       "<table border=\"1\" class=\"dataframe\">\n",
       "  <thead>\n",
       "    <tr style=\"text-align: right;\">\n",
       "      <th></th>\n",
       "      <th>Country Name</th>\n",
       "      <th>Country Code</th>\n",
       "      <th>Indicator Name</th>\n",
       "      <th>Indicator Code</th>\n",
       "      <th>1960</th>\n",
       "      <th>1961</th>\n",
       "      <th>1962</th>\n",
       "      <th>1963</th>\n",
       "      <th>1964</th>\n",
       "      <th>1965</th>\n",
       "      <th>...</th>\n",
       "      <th>2014</th>\n",
       "      <th>2015</th>\n",
       "      <th>2016</th>\n",
       "      <th>2017</th>\n",
       "      <th>2018</th>\n",
       "      <th>2019</th>\n",
       "      <th>2020</th>\n",
       "      <th>2021</th>\n",
       "      <th>2022</th>\n",
       "      <th>Unnamed: 67</th>\n",
       "    </tr>\n",
       "  </thead>\n",
       "  <tbody>\n",
       "    <tr>\n",
       "      <th>261</th>\n",
       "      <td>Kosovo</td>\n",
       "      <td>XKX</td>\n",
       "      <td>CO2 emissions (metric tons per capita)</td>\n",
       "      <td>EN.ATM.CO2E.PC</td>\n",
       "      <td>NaN</td>\n",
       "      <td>NaN</td>\n",
       "      <td>NaN</td>\n",
       "      <td>NaN</td>\n",
       "      <td>NaN</td>\n",
       "      <td>NaN</td>\n",
       "      <td>...</td>\n",
       "      <td>NaN</td>\n",
       "      <td>NaN</td>\n",
       "      <td>NaN</td>\n",
       "      <td>NaN</td>\n",
       "      <td>NaN</td>\n",
       "      <td>NaN</td>\n",
       "      <td>NaN</td>\n",
       "      <td>NaN</td>\n",
       "      <td>NaN</td>\n",
       "      <td>NaN</td>\n",
       "    </tr>\n",
       "    <tr>\n",
       "      <th>262</th>\n",
       "      <td>Yemen, Rep.</td>\n",
       "      <td>YEM</td>\n",
       "      <td>CO2 emissions (metric tons per capita)</td>\n",
       "      <td>EN.ATM.CO2E.PC</td>\n",
       "      <td>NaN</td>\n",
       "      <td>NaN</td>\n",
       "      <td>NaN</td>\n",
       "      <td>NaN</td>\n",
       "      <td>NaN</td>\n",
       "      <td>NaN</td>\n",
       "      <td>...</td>\n",
       "      <td>0.988347</td>\n",
       "      <td>0.475240</td>\n",
       "      <td>0.342802</td>\n",
       "      <td>0.322370</td>\n",
       "      <td>0.368614</td>\n",
       "      <td>0.354864</td>\n",
       "      <td>0.308515</td>\n",
       "      <td>NaN</td>\n",
       "      <td>NaN</td>\n",
       "      <td>NaN</td>\n",
       "    </tr>\n",
       "    <tr>\n",
       "      <th>263</th>\n",
       "      <td>South Africa</td>\n",
       "      <td>ZAF</td>\n",
       "      <td>CO2 emissions (metric tons per capita)</td>\n",
       "      <td>EN.ATM.CO2E.PC</td>\n",
       "      <td>NaN</td>\n",
       "      <td>NaN</td>\n",
       "      <td>NaN</td>\n",
       "      <td>NaN</td>\n",
       "      <td>NaN</td>\n",
       "      <td>NaN</td>\n",
       "      <td>...</td>\n",
       "      <td>8.191153</td>\n",
       "      <td>7.607189</td>\n",
       "      <td>7.544590</td>\n",
       "      <td>7.683708</td>\n",
       "      <td>7.667377</td>\n",
       "      <td>7.688908</td>\n",
       "      <td>6.687563</td>\n",
       "      <td>NaN</td>\n",
       "      <td>NaN</td>\n",
       "      <td>NaN</td>\n",
       "    </tr>\n",
       "    <tr>\n",
       "      <th>264</th>\n",
       "      <td>Zambia</td>\n",
       "      <td>ZMB</td>\n",
       "      <td>CO2 emissions (metric tons per capita)</td>\n",
       "      <td>EN.ATM.CO2E.PC</td>\n",
       "      <td>NaN</td>\n",
       "      <td>NaN</td>\n",
       "      <td>NaN</td>\n",
       "      <td>NaN</td>\n",
       "      <td>NaN</td>\n",
       "      <td>NaN</td>\n",
       "      <td>...</td>\n",
       "      <td>0.297755</td>\n",
       "      <td>0.305055</td>\n",
       "      <td>0.316995</td>\n",
       "      <td>0.393726</td>\n",
       "      <td>0.440527</td>\n",
       "      <td>0.414336</td>\n",
       "      <td>0.401903</td>\n",
       "      <td>NaN</td>\n",
       "      <td>NaN</td>\n",
       "      <td>NaN</td>\n",
       "    </tr>\n",
       "    <tr>\n",
       "      <th>265</th>\n",
       "      <td>Zimbabwe</td>\n",
       "      <td>ZWE</td>\n",
       "      <td>CO2 emissions (metric tons per capita)</td>\n",
       "      <td>EN.ATM.CO2E.PC</td>\n",
       "      <td>NaN</td>\n",
       "      <td>NaN</td>\n",
       "      <td>NaN</td>\n",
       "      <td>NaN</td>\n",
       "      <td>NaN</td>\n",
       "      <td>NaN</td>\n",
       "      <td>...</td>\n",
       "      <td>0.866838</td>\n",
       "      <td>0.846962</td>\n",
       "      <td>0.723062</td>\n",
       "      <td>0.663069</td>\n",
       "      <td>0.735435</td>\n",
       "      <td>0.663338</td>\n",
       "      <td>0.530484</td>\n",
       "      <td>NaN</td>\n",
       "      <td>NaN</td>\n",
       "      <td>NaN</td>\n",
       "    </tr>\n",
       "  </tbody>\n",
       "</table>\n",
       "<p>5 rows × 68 columns</p>\n",
       "</div>"
      ],
      "text/plain": [
       "     Country Name Country Code                          Indicator Name  \\\n",
       "261        Kosovo          XKX  CO2 emissions (metric tons per capita)   \n",
       "262   Yemen, Rep.          YEM  CO2 emissions (metric tons per capita)   \n",
       "263  South Africa          ZAF  CO2 emissions (metric tons per capita)   \n",
       "264        Zambia          ZMB  CO2 emissions (metric tons per capita)   \n",
       "265      Zimbabwe          ZWE  CO2 emissions (metric tons per capita)   \n",
       "\n",
       "     Indicator Code  1960  1961  1962  1963  1964  1965  ...      2014  \\\n",
       "261  EN.ATM.CO2E.PC   NaN   NaN   NaN   NaN   NaN   NaN  ...       NaN   \n",
       "262  EN.ATM.CO2E.PC   NaN   NaN   NaN   NaN   NaN   NaN  ...  0.988347   \n",
       "263  EN.ATM.CO2E.PC   NaN   NaN   NaN   NaN   NaN   NaN  ...  8.191153   \n",
       "264  EN.ATM.CO2E.PC   NaN   NaN   NaN   NaN   NaN   NaN  ...  0.297755   \n",
       "265  EN.ATM.CO2E.PC   NaN   NaN   NaN   NaN   NaN   NaN  ...  0.866838   \n",
       "\n",
       "         2015      2016      2017      2018      2019      2020  2021  2022  \\\n",
       "261       NaN       NaN       NaN       NaN       NaN       NaN   NaN   NaN   \n",
       "262  0.475240  0.342802  0.322370  0.368614  0.354864  0.308515   NaN   NaN   \n",
       "263  7.607189  7.544590  7.683708  7.667377  7.688908  6.687563   NaN   NaN   \n",
       "264  0.305055  0.316995  0.393726  0.440527  0.414336  0.401903   NaN   NaN   \n",
       "265  0.846962  0.723062  0.663069  0.735435  0.663338  0.530484   NaN   NaN   \n",
       "\n",
       "     Unnamed: 67  \n",
       "261          NaN  \n",
       "262          NaN  \n",
       "263          NaN  \n",
       "264          NaN  \n",
       "265          NaN  \n",
       "\n",
       "[5 rows x 68 columns]"
      ]
     },
     "execution_count": 8,
     "metadata": {},
     "output_type": "execute_result"
    }
   ],
   "source": [
    "df.tail()"
   ]
  },
  {
   "cell_type": "markdown",
   "metadata": {},
   "source": [
    "This clearly illustrates that __some rows have empty values__, indicating that a country has no data on CO2 emissions per capita. Additionally, __we can suspect that some columns have empty values__, indicating that there is no data on that specific year.\n",
    "\n",
    "To address this, we can write a query that _checks if a column header in a dataframe has any rows of value at all if not then delete the column header and checks if a row in a dataframe has any value at all if not then delete the corresponding row._ We can do so like such below:"
   ]
  },
  {
   "cell_type": "code",
   "execution_count": 9,
   "metadata": {},
   "outputs": [],
   "source": [
    "# Check if any row has all NaN values\n",
    "empty_rows = df.index[df.isnull().all(axis=1)]"
   ]
  },
  {
   "cell_type": "code",
   "execution_count": 10,
   "metadata": {},
   "outputs": [],
   "source": [
    "# Check if any column has all NaN values\n",
    "empty_columns = df.columns[df.isnull().all()]\n",
    "\n",
    "# Drop columns with all NaN values\n",
    "df = df.drop(empty_columns, axis=1)"
   ]
  },
  {
   "cell_type": "markdown",
   "metadata": {},
   "source": [
    "__Let's see the changes due to the codes above.__"
   ]
  },
  {
   "cell_type": "code",
   "execution_count": 12,
   "metadata": {},
   "outputs": [
    {
     "data": {
      "text/plain": [
       "Index(['Country Name', 'Country Code', 'Indicator Name', 'Indicator Code',\n",
       "       '1990', '1991', '1992', '1993', '1994', '1995', '1996', '1997', '1998',\n",
       "       '1999', '2000', '2001', '2002', '2003', '2004', '2005', '2006', '2007',\n",
       "       '2008', '2009', '2010', '2011', '2012', '2013', '2014', '2015', '2016',\n",
       "       '2017', '2018', '2019', '2020'],\n",
       "      dtype='object')"
      ]
     },
     "execution_count": 12,
     "metadata": {},
     "output_type": "execute_result"
    }
   ],
   "source": [
    "df.columns"
   ]
  },
  {
   "cell_type": "markdown",
   "metadata": {},
   "source": []
  }
 ],
 "metadata": {
  "kernelspec": {
   "display_name": "Python 3",
   "language": "python",
   "name": "python3"
  },
  "language_info": {
   "codemirror_mode": {
    "name": "ipython",
    "version": 3
   },
   "file_extension": ".py",
   "mimetype": "text/x-python",
   "name": "python",
   "nbconvert_exporter": "python",
   "pygments_lexer": "ipython3",
   "version": "3.10.13"
  }
 },
 "nbformat": 4,
 "nbformat_minor": 2
}
