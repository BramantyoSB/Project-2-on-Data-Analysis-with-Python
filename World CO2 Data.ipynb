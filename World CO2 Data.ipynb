{
 "cells": [
  {
   "cell_type": "markdown",
   "metadata": {},
   "source": [
    "## Data Analysis on World CO2 Data\n",
    "Drawing upon our knowledge in Python and its data science libraries—Pandas, NumPy, and Matplotlib—__we can leverage our expertise in addressing pressing global challenges__. This case study specifically delves into __examining the historical extent of climate change__. \n",
    "\n",
    "We will be looking at the dataset provide by the World Bank: [CO2 emissions (metric tons per capita)](https://api.worldbank.org/v2/en/indicator/EN.ATM.CO2E.PC?downloadformat=csv).\n",
    "\n",
    "__But, first we must understand the dataset!__"
   ]
  },
  {
   "cell_type": "markdown",
   "metadata": {},
   "source": [
    "## Understanding Climate Change, thus the Dataset\n"
   ]
  },
  {
   "cell_type": "markdown",
   "metadata": {},
   "source": [
    "The specific .csv file in the zip file downloaded is titled \"API_EN.ATM.CO2E.PC_DS2_en_csv_v2_5995557\". The file name will be manually changed into \"World CO2 Data\" for better naming convention."
   ]
  },
  {
   "cell_type": "markdown",
   "metadata": {},
   "source": [
    "__Understanding Climate Change__\n",
    "\n",
    "People often ask, _Why is CO2 emissions a prime indicator of climate change? Why not other metrics?_ \n",
    "\n",
    "The [United States Environmental Protection Agency](https://www.epa.gov/report-environment/greenhouse-gases) addresses this by highlighting that CO2 emissions presently constitute the largest share of the warming linked to human activities. This allows us to draw parallels between CO2 emissions and its climate effects. "
   ]
  },
  {
   "cell_type": "markdown",
   "metadata": {},
   "source": [
    "__Understanding the Dataset__\n",
    "\n",
    "Now that we know CO2 emissions are directly tied to climate change, __let's check out the actual data__. \n",
    "\n",
    "__The dataset outlines the CO2 emissions in metric tons per capita__. This means each entry in the dataset corresponds to the amount of CO2 emitted per person in a given region or country. Additionally, __there's a total entry of 266 countries' data from 1960 to 2022__. It is important to note, however, __that the dataset contains some missing values__; we must address this later using Pandas.\n",
    "\n",
    "Analyzing this data allows us to discern patterns and trends, revealing which areas contribute more significantly to per capita emissions."
   ]
  },
  {
   "cell_type": "markdown",
   "metadata": {},
   "source": [
    "## The Big Question\n",
    "\n",
    "We obviously"
   ]
  },
  {
   "cell_type": "markdown",
   "metadata": {},
   "source": [
    "__imports__"
   ]
  },
  {
   "cell_type": "code",
   "execution_count": 1,
   "metadata": {},
   "outputs": [],
   "source": [
    "import pandas as pd"
   ]
  }
 ],
 "metadata": {
  "kernelspec": {
   "display_name": "Python 3",
   "language": "python",
   "name": "python3"
  },
  "language_info": {
   "codemirror_mode": {
    "name": "ipython",
    "version": 3
   },
   "file_extension": ".py",
   "mimetype": "text/x-python",
   "name": "python",
   "nbconvert_exporter": "python",
   "pygments_lexer": "ipython3",
   "version": "3.10.13"
  }
 },
 "nbformat": 4,
 "nbformat_minor": 2
}
