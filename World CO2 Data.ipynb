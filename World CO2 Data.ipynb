{
 "cells": [
  {
   "cell_type": "markdown",
   "metadata": {},
   "source": [
    "## Data Analysis on World CO2 Data\n",
    "Drawing upon our knowledge in Python and its data science libraries—Pandas, NumPy, and Matplotlib—__we can leverage our expertise in addressing pressing global challenges__. This case study specifically delves into __examining the historical extent of climate change__. \n",
    "\n",
    "We will be looking at the dataset provide by the World Bank: [CO2 emissions (metric tons per capita)](https://api.worldbank.org/v2/en/indicator/EN.ATM.CO2E.PC?downloadformat=csv).\n",
    "\n",
    "__But, first we must understand the dataset!__"
   ]
  },
  {
   "cell_type": "markdown",
   "metadata": {},
   "source": [
    "## Understanding Climate Change, thus the Dataset\n"
   ]
  },
  {
   "cell_type": "markdown",
   "metadata": {},
   "source": [
    "__Understanding Climate Change__\n",
    "\n",
    "People often ask, _Why is CO2 emissions a prime indicator of climate change? Why not other metrics?_ \n",
    "\n",
    "The [United States Environmental Protection Agency](https://www.epa.gov/report-environment/greenhouse-gases) addresses this by highlighting that CO2 emissions presently constitute the largest share of the warming linked to human activities. This allows us to draw parallels between CO2 emissions and its climate effects. "
   ]
  },
  {
   "cell_type": "markdown",
   "metadata": {},
   "source": [
    "__Understanding the Dataset__\n",
    "\n",
    "Now that it is clear that CO2 emissions are linked directly to climate change, we need to access the raw dataset and understand its contents."
   ]
  }
 ],
 "metadata": {
  "language_info": {
   "name": "python"
  }
 },
 "nbformat": 4,
 "nbformat_minor": 2
}
